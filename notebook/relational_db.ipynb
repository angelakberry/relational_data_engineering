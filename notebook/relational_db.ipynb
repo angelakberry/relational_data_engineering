{
 "cells": [
  {
   "cell_type": "code",
   "execution_count": 39,
   "id": "11b2f438",
   "metadata": {},
   "outputs": [],
   "source": [
    "import pandas as pd\n",
    "import sqlite3\n",
    "import _sqlite3\n"
   ]
  },
  {
   "cell_type": "code",
   "execution_count": 40,
   "id": "3f42dc19",
   "metadata": {},
   "outputs": [],
   "source": [
    "friends_df = pd.read_csv(\"../data/friends_table.csv\")\n",
    "posts_df = pd.read_csv(\"../data/posts_table.csv\")\n",
    "reactions_df = pd.read_csv(\"../data/reactions_table.csv\")\n",
    "users_df = pd.read_csv(\"../data/user_table.csv\")"
   ]
  },
  {
   "cell_type": "code",
   "execution_count": 41,
   "id": "4d343cf4",
   "metadata": {},
   "outputs": [
    {
     "data": {
      "text/html": [
       "<div>\n",
       "<style scoped>\n",
       "    .dataframe tbody tr th:only-of-type {\n",
       "        vertical-align: middle;\n",
       "    }\n",
       "\n",
       "    .dataframe tbody tr th {\n",
       "        vertical-align: top;\n",
       "    }\n",
       "\n",
       "    .dataframe thead th {\n",
       "        text-align: right;\n",
       "    }\n",
       "</style>\n",
       "<table border=\"1\" class=\"dataframe\">\n",
       "  <thead>\n",
       "    <tr style=\"text-align: right;\">\n",
       "      <th></th>\n",
       "      <th>Surname</th>\n",
       "      <th>Name</th>\n",
       "      <th>Age</th>\n",
       "      <th>Subscription Date</th>\n",
       "    </tr>\n",
       "  </thead>\n",
       "  <tbody>\n",
       "    <tr>\n",
       "      <th>0</th>\n",
       "      <td>Smith</td>\n",
       "      <td>Sarah</td>\n",
       "      <td>30</td>\n",
       "      <td>1588157373</td>\n",
       "    </tr>\n",
       "    <tr>\n",
       "      <th>1</th>\n",
       "      <td>Picard</td>\n",
       "      <td>Francine</td>\n",
       "      <td>32</td>\n",
       "      <td>1588161732</td>\n",
       "    </tr>\n",
       "    <tr>\n",
       "      <th>2</th>\n",
       "      <td>Roth</td>\n",
       "      <td>Hans</td>\n",
       "      <td>40</td>\n",
       "      <td>1588157337</td>\n",
       "    </tr>\n",
       "    <tr>\n",
       "      <th>3</th>\n",
       "      <td>Pomme</td>\n",
       "      <td>Ali</td>\n",
       "      <td>28</td>\n",
       "      <td>1588165636</td>\n",
       "    </tr>\n",
       "    <tr>\n",
       "      <th>4</th>\n",
       "      <td>Di Lillo</td>\n",
       "      <td>Jordi</td>\n",
       "      <td>42</td>\n",
       "      <td>1588156042</td>\n",
       "    </tr>\n",
       "  </tbody>\n",
       "</table>\n",
       "</div>"
      ],
      "text/plain": [
       "    Surname      Name  Age  Subscription Date\n",
       "0     Smith     Sarah   30         1588157373\n",
       "1    Picard  Francine   32         1588161732\n",
       "2      Roth      Hans   40         1588157337\n",
       "3     Pomme       Ali   28         1588165636\n",
       "4  Di Lillo     Jordi   42         1588156042"
      ]
     },
     "execution_count": 41,
     "metadata": {},
     "output_type": "execute_result"
    }
   ],
   "source": [
    "users_df.head()\n"
   ]
  },
  {
   "cell_type": "code",
   "execution_count": 42,
   "id": "476df800",
   "metadata": {},
   "outputs": [],
   "source": [
    "users_df.duplicated().sum()\n",
    "users_df = users_df.drop_duplicates()"
   ]
  },
  {
   "cell_type": "code",
   "execution_count": 43,
   "id": "c2975ec4",
   "metadata": {},
   "outputs": [
    {
     "data": {
      "text/plain": [
       "1000"
      ]
     },
     "execution_count": 43,
     "metadata": {},
     "output_type": "execute_result"
    }
   ],
   "source": [
    "num_rows = len(users_df)\n",
    "num_rows"
   ]
  },
  {
   "cell_type": "code",
   "execution_count": 44,
   "id": "821616d7",
   "metadata": {},
   "outputs": [
    {
     "data": {
      "text/plain": [
       "(1000, 4)"
      ]
     },
     "execution_count": 44,
     "metadata": {},
     "output_type": "execute_result"
    }
   ],
   "source": [
    "users_df.shape"
   ]
  },
  {
   "cell_type": "code",
   "execution_count": 45,
   "id": "3794f4cf",
   "metadata": {},
   "outputs": [
    {
     "data": {
      "text/html": [
       "<div>\n",
       "<style scoped>\n",
       "    .dataframe tbody tr th:only-of-type {\n",
       "        vertical-align: middle;\n",
       "    }\n",
       "\n",
       "    .dataframe tbody tr th {\n",
       "        vertical-align: top;\n",
       "    }\n",
       "\n",
       "    .dataframe thead th {\n",
       "        text-align: right;\n",
       "    }\n",
       "</style>\n",
       "<table border=\"1\" class=\"dataframe\">\n",
       "  <thead>\n",
       "    <tr style=\"text-align: right;\">\n",
       "      <th></th>\n",
       "      <th>Surname</th>\n",
       "      <th>Name</th>\n",
       "      <th>Age</th>\n",
       "      <th>Subscription Date</th>\n",
       "      <th>user_id</th>\n",
       "    </tr>\n",
       "  </thead>\n",
       "  <tbody>\n",
       "    <tr>\n",
       "      <th>0</th>\n",
       "      <td>Smith</td>\n",
       "      <td>Sarah</td>\n",
       "      <td>30</td>\n",
       "      <td>1588157373</td>\n",
       "      <td>1</td>\n",
       "    </tr>\n",
       "    <tr>\n",
       "      <th>1</th>\n",
       "      <td>Picard</td>\n",
       "      <td>Francine</td>\n",
       "      <td>32</td>\n",
       "      <td>1588161732</td>\n",
       "      <td>2</td>\n",
       "    </tr>\n",
       "    <tr>\n",
       "      <th>2</th>\n",
       "      <td>Roth</td>\n",
       "      <td>Hans</td>\n",
       "      <td>40</td>\n",
       "      <td>1588157337</td>\n",
       "      <td>3</td>\n",
       "    </tr>\n",
       "    <tr>\n",
       "      <th>3</th>\n",
       "      <td>Pomme</td>\n",
       "      <td>Ali</td>\n",
       "      <td>28</td>\n",
       "      <td>1588165636</td>\n",
       "      <td>4</td>\n",
       "    </tr>\n",
       "    <tr>\n",
       "      <th>4</th>\n",
       "      <td>Di Lillo</td>\n",
       "      <td>Jordi</td>\n",
       "      <td>42</td>\n",
       "      <td>1588156042</td>\n",
       "      <td>5</td>\n",
       "    </tr>\n",
       "  </tbody>\n",
       "</table>\n",
       "</div>"
      ],
      "text/plain": [
       "    Surname      Name  Age  Subscription Date  user_id\n",
       "0     Smith     Sarah   30         1588157373        1\n",
       "1    Picard  Francine   32         1588161732        2\n",
       "2      Roth      Hans   40         1588157337        3\n",
       "3     Pomme       Ali   28         1588165636        4\n",
       "4  Di Lillo     Jordi   42         1588156042        5"
      ]
     },
     "execution_count": 45,
     "metadata": {},
     "output_type": "execute_result"
    }
   ],
   "source": [
    "users_df['user_id'] = users_df.index +1\n",
    "users_df.head()"
   ]
  },
  {
   "cell_type": "code",
   "execution_count": 46,
   "id": "067bf7e6",
   "metadata": {},
   "outputs": [
    {
     "name": "stdout",
     "output_type": "stream",
     "text": [
      "         Surname      Name  Age  Subscription Date  user_id\n",
      "0          Smith     Sarah   30         1588157373        1\n",
      "1         Picard  Francine   32         1588161732        2\n",
      "2           Roth      Hans   40         1588157337        3\n",
      "3          Pomme       Ali   28         1588165636        4\n",
      "4       Di Lillo     Jordi   42         1588156042        5\n",
      "..           ...       ...  ...                ...      ...\n",
      "995         Kirk       Lee   19         1588160246      996\n",
      "996        Pomme     Franz   40         1588159625      997\n",
      "997       Gwahsi    Thomas   40         1588165504      998\n",
      "998  Beierlorzer  Jean-Luc   32         1588151074      999\n",
      "999     Thronton     Franz   28         1588171183     1000\n",
      "\n",
      "[1000 rows x 5 columns]\n"
     ]
    }
   ],
   "source": [
    "print(users_df)"
   ]
  },
  {
   "cell_type": "code",
   "execution_count": 47,
   "id": "561f50ae",
   "metadata": {},
   "outputs": [
    {
     "data": {
      "text/html": [
       "<div>\n",
       "<style scoped>\n",
       "    .dataframe tbody tr th:only-of-type {\n",
       "        vertical-align: middle;\n",
       "    }\n",
       "\n",
       "    .dataframe tbody tr th {\n",
       "        vertical-align: top;\n",
       "    }\n",
       "\n",
       "    .dataframe thead th {\n",
       "        text-align: right;\n",
       "    }\n",
       "</style>\n",
       "<table border=\"1\" class=\"dataframe\">\n",
       "  <thead>\n",
       "    <tr style=\"text-align: right;\">\n",
       "      <th></th>\n",
       "      <th>User</th>\n",
       "      <th>Reaction Type</th>\n",
       "      <th>Reaction Date</th>\n",
       "    </tr>\n",
       "  </thead>\n",
       "  <tbody>\n",
       "    <tr>\n",
       "      <th>0</th>\n",
       "      <td>3741</td>\n",
       "      <td>Comment</td>\n",
       "      <td>1588168107</td>\n",
       "    </tr>\n",
       "    <tr>\n",
       "      <th>1</th>\n",
       "      <td>711</td>\n",
       "      <td>Emoticon</td>\n",
       "      <td>1588166846</td>\n",
       "    </tr>\n",
       "    <tr>\n",
       "      <th>2</th>\n",
       "      <td>701</td>\n",
       "      <td>Emoticon</td>\n",
       "      <td>1588163334</td>\n",
       "    </tr>\n",
       "    <tr>\n",
       "      <th>3</th>\n",
       "      <td>4750</td>\n",
       "      <td>Emoticon</td>\n",
       "      <td>1588168182</td>\n",
       "    </tr>\n",
       "    <tr>\n",
       "      <th>4</th>\n",
       "      <td>656</td>\n",
       "      <td>Comment</td>\n",
       "      <td>1588162272</td>\n",
       "    </tr>\n",
       "    <tr>\n",
       "      <th>...</th>\n",
       "      <td>...</td>\n",
       "      <td>...</td>\n",
       "      <td>...</td>\n",
       "    </tr>\n",
       "    <tr>\n",
       "      <th>26360</th>\n",
       "      <td>2930</td>\n",
       "      <td>Emoticon</td>\n",
       "      <td>1588166570</td>\n",
       "    </tr>\n",
       "    <tr>\n",
       "      <th>26361</th>\n",
       "      <td>7677</td>\n",
       "      <td>Like</td>\n",
       "      <td>1588165508</td>\n",
       "    </tr>\n",
       "    <tr>\n",
       "      <th>26362</th>\n",
       "      <td>712</td>\n",
       "      <td>Like</td>\n",
       "      <td>1588164897</td>\n",
       "    </tr>\n",
       "    <tr>\n",
       "      <th>26363</th>\n",
       "      <td>688</td>\n",
       "      <td>Emoticon</td>\n",
       "      <td>1588164062</td>\n",
       "    </tr>\n",
       "    <tr>\n",
       "      <th>26364</th>\n",
       "      <td>723</td>\n",
       "      <td>Comment</td>\n",
       "      <td>1588165527</td>\n",
       "    </tr>\n",
       "  </tbody>\n",
       "</table>\n",
       "<p>26365 rows × 3 columns</p>\n",
       "</div>"
      ],
      "text/plain": [
       "       User Reaction Type  Reaction Date\n",
       "0      3741       Comment     1588168107\n",
       "1       711      Emoticon     1588166846\n",
       "2       701      Emoticon     1588163334\n",
       "3      4750      Emoticon     1588168182\n",
       "4       656       Comment     1588162272\n",
       "...     ...           ...            ...\n",
       "26360  2930      Emoticon     1588166570\n",
       "26361  7677          Like     1588165508\n",
       "26362   712          Like     1588164897\n",
       "26363   688      Emoticon     1588164062\n",
       "26364   723       Comment     1588165527\n",
       "\n",
       "[26365 rows x 3 columns]"
      ]
     },
     "execution_count": 47,
     "metadata": {},
     "output_type": "execute_result"
    }
   ],
   "source": [
    "(reactions_df)"
   ]
  },
  {
   "cell_type": "code",
   "execution_count": 48,
   "id": "004befb1",
   "metadata": {},
   "outputs": [],
   "source": [
    "reactions_df['reaction_id'] = reactions_df.index +1"
   ]
  },
  {
   "cell_type": "code",
   "execution_count": 49,
   "id": "ffe9477d",
   "metadata": {},
   "outputs": [
    {
     "data": {
      "text/html": [
       "<div>\n",
       "<style scoped>\n",
       "    .dataframe tbody tr th:only-of-type {\n",
       "        vertical-align: middle;\n",
       "    }\n",
       "\n",
       "    .dataframe tbody tr th {\n",
       "        vertical-align: top;\n",
       "    }\n",
       "\n",
       "    .dataframe thead th {\n",
       "        text-align: right;\n",
       "    }\n",
       "</style>\n",
       "<table border=\"1\" class=\"dataframe\">\n",
       "  <thead>\n",
       "    <tr style=\"text-align: right;\">\n",
       "      <th></th>\n",
       "      <th>User</th>\n",
       "      <th>Reaction Type</th>\n",
       "      <th>Reaction Date</th>\n",
       "      <th>reaction_id</th>\n",
       "    </tr>\n",
       "  </thead>\n",
       "  <tbody>\n",
       "    <tr>\n",
       "      <th>0</th>\n",
       "      <td>3741</td>\n",
       "      <td>Comment</td>\n",
       "      <td>1588168107</td>\n",
       "      <td>1</td>\n",
       "    </tr>\n",
       "    <tr>\n",
       "      <th>1</th>\n",
       "      <td>711</td>\n",
       "      <td>Emoticon</td>\n",
       "      <td>1588166846</td>\n",
       "      <td>2</td>\n",
       "    </tr>\n",
       "    <tr>\n",
       "      <th>2</th>\n",
       "      <td>701</td>\n",
       "      <td>Emoticon</td>\n",
       "      <td>1588163334</td>\n",
       "      <td>3</td>\n",
       "    </tr>\n",
       "    <tr>\n",
       "      <th>3</th>\n",
       "      <td>4750</td>\n",
       "      <td>Emoticon</td>\n",
       "      <td>1588168182</td>\n",
       "      <td>4</td>\n",
       "    </tr>\n",
       "    <tr>\n",
       "      <th>4</th>\n",
       "      <td>656</td>\n",
       "      <td>Comment</td>\n",
       "      <td>1588162272</td>\n",
       "      <td>5</td>\n",
       "    </tr>\n",
       "  </tbody>\n",
       "</table>\n",
       "</div>"
      ],
      "text/plain": [
       "   User Reaction Type  Reaction Date  reaction_id\n",
       "0  3741       Comment     1588168107            1\n",
       "1   711      Emoticon     1588166846            2\n",
       "2   701      Emoticon     1588163334            3\n",
       "3  4750      Emoticon     1588168182            4\n",
       "4   656       Comment     1588162272            5"
      ]
     },
     "execution_count": 49,
     "metadata": {},
     "output_type": "execute_result"
    }
   ],
   "source": [
    "reactions_df.head()"
   ]
  },
  {
   "cell_type": "code",
   "execution_count": 50,
   "id": "e57967ab",
   "metadata": {},
   "outputs": [
    {
     "data": {
      "text/html": [
       "<div>\n",
       "<style scoped>\n",
       "    .dataframe tbody tr th:only-of-type {\n",
       "        vertical-align: middle;\n",
       "    }\n",
       "\n",
       "    .dataframe tbody tr th {\n",
       "        vertical-align: top;\n",
       "    }\n",
       "\n",
       "    .dataframe thead th {\n",
       "        text-align: right;\n",
       "    }\n",
       "</style>\n",
       "<table border=\"1\" class=\"dataframe\">\n",
       "  <thead>\n",
       "    <tr style=\"text-align: right;\">\n",
       "      <th></th>\n",
       "      <th>user_id</th>\n",
       "      <th>Reaction Type</th>\n",
       "      <th>Reaction Date</th>\n",
       "      <th>reaction_id</th>\n",
       "    </tr>\n",
       "  </thead>\n",
       "  <tbody>\n",
       "    <tr>\n",
       "      <th>0</th>\n",
       "      <td>3741</td>\n",
       "      <td>Comment</td>\n",
       "      <td>1588168107</td>\n",
       "      <td>1</td>\n",
       "    </tr>\n",
       "    <tr>\n",
       "      <th>1</th>\n",
       "      <td>711</td>\n",
       "      <td>Emoticon</td>\n",
       "      <td>1588166846</td>\n",
       "      <td>2</td>\n",
       "    </tr>\n",
       "    <tr>\n",
       "      <th>2</th>\n",
       "      <td>701</td>\n",
       "      <td>Emoticon</td>\n",
       "      <td>1588163334</td>\n",
       "      <td>3</td>\n",
       "    </tr>\n",
       "    <tr>\n",
       "      <th>3</th>\n",
       "      <td>4750</td>\n",
       "      <td>Emoticon</td>\n",
       "      <td>1588168182</td>\n",
       "      <td>4</td>\n",
       "    </tr>\n",
       "    <tr>\n",
       "      <th>4</th>\n",
       "      <td>656</td>\n",
       "      <td>Comment</td>\n",
       "      <td>1588162272</td>\n",
       "      <td>5</td>\n",
       "    </tr>\n",
       "    <tr>\n",
       "      <th>...</th>\n",
       "      <td>...</td>\n",
       "      <td>...</td>\n",
       "      <td>...</td>\n",
       "      <td>...</td>\n",
       "    </tr>\n",
       "    <tr>\n",
       "      <th>26360</th>\n",
       "      <td>2930</td>\n",
       "      <td>Emoticon</td>\n",
       "      <td>1588166570</td>\n",
       "      <td>26361</td>\n",
       "    </tr>\n",
       "    <tr>\n",
       "      <th>26361</th>\n",
       "      <td>7677</td>\n",
       "      <td>Like</td>\n",
       "      <td>1588165508</td>\n",
       "      <td>26362</td>\n",
       "    </tr>\n",
       "    <tr>\n",
       "      <th>26362</th>\n",
       "      <td>712</td>\n",
       "      <td>Like</td>\n",
       "      <td>1588164897</td>\n",
       "      <td>26363</td>\n",
       "    </tr>\n",
       "    <tr>\n",
       "      <th>26363</th>\n",
       "      <td>688</td>\n",
       "      <td>Emoticon</td>\n",
       "      <td>1588164062</td>\n",
       "      <td>26364</td>\n",
       "    </tr>\n",
       "    <tr>\n",
       "      <th>26364</th>\n",
       "      <td>723</td>\n",
       "      <td>Comment</td>\n",
       "      <td>1588165527</td>\n",
       "      <td>26365</td>\n",
       "    </tr>\n",
       "  </tbody>\n",
       "</table>\n",
       "<p>26365 rows × 4 columns</p>\n",
       "</div>"
      ],
      "text/plain": [
       "       user_id Reaction Type  Reaction Date  reaction_id\n",
       "0         3741       Comment     1588168107            1\n",
       "1          711      Emoticon     1588166846            2\n",
       "2          701      Emoticon     1588163334            3\n",
       "3         4750      Emoticon     1588168182            4\n",
       "4          656       Comment     1588162272            5\n",
       "...        ...           ...            ...          ...\n",
       "26360     2930      Emoticon     1588166570        26361\n",
       "26361     7677          Like     1588165508        26362\n",
       "26362      712          Like     1588164897        26363\n",
       "26363      688      Emoticon     1588164062        26364\n",
       "26364      723       Comment     1588165527        26365\n",
       "\n",
       "[26365 rows x 4 columns]"
      ]
     },
     "execution_count": 50,
     "metadata": {},
     "output_type": "execute_result"
    }
   ],
   "source": [
    "reactions_df.rename(columns = {'User':'user_id'})"
   ]
  },
  {
   "cell_type": "code",
   "execution_count": 53,
   "id": "ebdbea24",
   "metadata": {},
   "outputs": [],
   "source": [
    "conn = sqlite3.connect(\"database.db\")"
   ]
  },
  {
   "cell_type": "code",
   "execution_count": 55,
   "id": "2b6851c8",
   "metadata": {},
   "outputs": [
    {
     "data": {
      "text/plain": [
       "1000"
      ]
     },
     "execution_count": 55,
     "metadata": {},
     "output_type": "execute_result"
    }
   ],
   "source": [
    "users_df.to_sql(\"users\", conn, if_exists=\"replace\", index=False)"
   ]
  }
 ],
 "metadata": {
  "kernelspec": {
   "display_name": "Python 3",
   "language": "python",
   "name": "python3"
  },
  "language_info": {
   "codemirror_mode": {
    "name": "ipython",
    "version": 3
   },
   "file_extension": ".py",
   "mimetype": "text/x-python",
   "name": "python",
   "nbconvert_exporter": "python",
   "pygments_lexer": "ipython3",
   "version": "3.13.4"
  }
 },
 "nbformat": 4,
 "nbformat_minor": 5
}
